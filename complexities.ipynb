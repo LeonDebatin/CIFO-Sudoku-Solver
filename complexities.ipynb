{
 "cells": [
  {
   "cell_type": "code",
   "execution_count": 6,
   "metadata": {},
   "outputs": [],
   "source": [
    "from sudoku_templates.templates_final import easy, normal, hard, evil, ultimate,six_easy ,six_medium, six_hard, twelve_easy, twelve_medium, twelve_hard\n",
    "from darwin.sudoku import Sudoku"
   ]
  },
  {
   "cell_type": "code",
   "execution_count": 7,
   "metadata": {},
   "outputs": [],
   "source": [
    "#to get an idea of how many possible solutions based on the templates exist we calculate them\n",
    "#we find the tendency the harder the sudoku the more solutions exist, except for easy medium and hard of the 9x9\n"
   ]
  },
  {
   "cell_type": "code",
   "execution_count": 8,
   "metadata": {},
   "outputs": [
    {
     "name": "stdout",
     "output_type": "stream",
     "text": [
      "easy \n",
      " 277326388342554624000000\n",
      "normal \n",
      " 59902499881991798784000\n",
      "hard \n",
      " 19190444420202548428800\n",
      "evil \n",
      " 22186111067404369920000000\n",
      "ultimate \n",
      " 969325983275608524718080000000\n"
     ]
    }
   ],
   "source": [
    "#for the 9x9\n",
    "templates = [easy[1],  normal[1],  hard[1], evil[1], ultimate[1]]\n",
    "diffs = [\"easy\", \"normal\", \"hard\", \"evil\", \"ultimate\"]\n",
    "for i in range(len(templates)):\n",
    "    s = Sudoku(templates[i])\n",
    "    print(diffs[i],'\\n', s.get_number_of_possible_solutions())"
   ]
  },
  {
   "cell_type": "code",
   "execution_count": 9,
   "metadata": {},
   "outputs": [
    {
     "name": "stdout",
     "output_type": "stream",
     "text": [
      "easy \n",
      " 2519424\n",
      "normal \n",
      " 604661760\n",
      "hard \n",
      " 88159684608\n"
     ]
    }
   ],
   "source": [
    "#6x6\n",
    "templates = [six_easy, six_medium, six_hard]\n",
    "\n",
    "for i in range(len(templates)):\n",
    "    s = Sudoku(templates[i])\n",
    "    print(diffs[i],'\\n', s.get_number_of_possible_solutions())"
   ]
  },
  {
   "cell_type": "code",
   "execution_count": 10,
   "metadata": {},
   "outputs": [
    {
     "name": "stdout",
     "output_type": "stream",
     "text": [
      "easy \n",
      " 17832200896512\n",
      "normal \n",
      " 128930309981131694327149363200000\n",
      "hard \n",
      " 6701240792865929512002465017364480000000000000000\n"
     ]
    }
   ],
   "source": [
    "#12x12\n",
    "templates = [twelve_easy, twelve_medium,  twelve_hard]\n",
    "for i in range(len(templates)):\n",
    "    s = Sudoku(templates[i])\n",
    "    print(diffs[i],'\\n', s.get_number_of_possible_solutions())"
   ]
  }
 ],
 "metadata": {
  "kernelspec": {
   "display_name": "Python 3",
   "language": "python",
   "name": "python3"
  },
  "language_info": {
   "codemirror_mode": {
    "name": "ipython",
    "version": 3
   },
   "file_extension": ".py",
   "mimetype": "text/x-python",
   "name": "python",
   "nbconvert_exporter": "python",
   "pygments_lexer": "ipython3",
   "version": "3.11.4"
  }
 },
 "nbformat": 4,
 "nbformat_minor": 2
}
