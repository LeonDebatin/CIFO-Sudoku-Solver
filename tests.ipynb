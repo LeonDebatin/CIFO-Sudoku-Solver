{
 "cells": [
  {
   "cell_type": "code",
   "execution_count": 1,
   "metadata": {},
   "outputs": [],
   "source": [
    "from sudoku_templates.templates_final import ultimate, six_easy\n",
    "from darwin.sudoku import Sudoku, plot_sudoku\n",
    "from darwin.solve_sudoku import solve_sudoku\n",
    "from darwin.charles import Individual"
   ]
  },
  {
   "cell_type": "code",
   "execution_count": 2,
   "metadata": {},
   "outputs": [
    {
     "name": "stdout",
     "output_type": "stream",
     "text": [
      "[[0, 5, 0, 0, 0, 4], [0, 0, 3, 0, 5, 6], [0, 0, 6, 4, 0, 0], [0, 3, 4, 0, 2, 5], [0, 0, 5, 0, 0, 1], [3, 0, 1, 0, 4, 0]]\n",
      "0  \u001b[44m5\u001b[0m  0  | 0  0  \u001b[44m4\u001b[0m  \n",
      "0  0  \u001b[44m3\u001b[0m  | 0  \u001b[44m5\u001b[0m  \u001b[44m6\u001b[0m  \n",
      "-------------------\n",
      "0  0  \u001b[44m6\u001b[0m  | \u001b[44m4\u001b[0m  0  0  \n",
      "0  \u001b[44m3\u001b[0m  \u001b[44m4\u001b[0m  | 0  \u001b[44m2\u001b[0m  \u001b[44m5\u001b[0m  \n",
      "-------------------\n",
      "0  0  \u001b[44m5\u001b[0m  | 0  0  \u001b[44m1\u001b[0m  \n",
      "\u001b[44m3\u001b[0m  0  \u001b[44m1\u001b[0m  | 0  \u001b[44m4\u001b[0m  0  \n",
      "[[[1, 2, 6], [], [2], [1, 2, 3], [1, 3], []], [[1, 2, 4], [1, 2, 4], [], [1, 2], [], []], [[1, 2, 5], [1, 2], [], [], [1, 3], [3]], [[1], [], [], [1, 6], [], []], [[2, 4, 6], [2, 4, 6], [], [2, 3, 6], [3, 6], []], [[], [2, 6], [], [2, 5, 6], [], [2]]]\n"
     ]
    }
   ],
   "source": [
    "#check if template matches plot and possible entries match template\n",
    "print(six_easy)\n",
    "test = Sudoku(six_easy)\n",
    "plot_sudoku(test)\n",
    "print(test.possible_entries)"
   ]
  },
  {
   "cell_type": "code",
   "execution_count": 3,
   "metadata": {},
   "outputs": [
    {
     "data": {
      "text/plain": [
       "0"
      ]
     },
     "execution_count": 3,
     "metadata": {},
     "output_type": "execute_result"
    }
   ],
   "source": [
    "#we expect to solve quickly\n",
    "p = solve_sudoku( sudoku= test, generations=200, population_size=200,selection_method='fps', elitism=True, elitism_percentage=0.1, crossover_method= 'a_bit_of_all_crossover', crossover_rate=0.8, mutation_method='flip_mutation', mutation_rate=0.05, log=False, generations_earlystop=100)\n",
    "p.best_fitness"
   ]
  },
  {
   "cell_type": "code",
   "execution_count": 4,
   "metadata": {},
   "outputs": [
    {
     "name": "stdout",
     "output_type": "stream",
     "text": [
      "6  \u001b[44m5\u001b[0m  2  | 1  3  \u001b[44m4\u001b[0m  \n",
      "4  1  \u001b[44m3\u001b[0m  | 2  \u001b[44m5\u001b[0m  \u001b[44m6\u001b[0m  \n",
      "-------------------\n",
      "5  2  \u001b[44m6\u001b[0m  | \u001b[44m4\u001b[0m  1  3  \n",
      "1  \u001b[44m3\u001b[0m  \u001b[44m4\u001b[0m  | 6  \u001b[44m2\u001b[0m  \u001b[44m5\u001b[0m  \n",
      "-------------------\n",
      "2  4  \u001b[44m5\u001b[0m  | 3  6  \u001b[44m1\u001b[0m  \n",
      "\u001b[44m3\u001b[0m  6  \u001b[44m1\u001b[0m  | 5  \u001b[44m4\u001b[0m  2  \n"
     ]
    }
   ],
   "source": [
    "plot_sudoku(p.individuals[0])\n",
    "# real solution, no errors"
   ]
  },
  {
   "cell_type": "code",
   "execution_count": 5,
   "metadata": {},
   "outputs": [
    {
     "name": "stdout",
     "output_type": "stream",
     "text": [
      "\u001b[44m1\u001b[0m  \u001b[44m1\u001b[0m  \u001b[44m1\u001b[0m  | \u001b[44m2\u001b[0m  \u001b[44m2\u001b[0m  \u001b[44m2\u001b[0m  \n",
      "\u001b[44m1\u001b[0m  \u001b[44m1\u001b[0m  \u001b[44m1\u001b[0m  | \u001b[44m2\u001b[0m  \u001b[44m2\u001b[0m  \u001b[44m2\u001b[0m  \n",
      "-------------------\n",
      "\u001b[44m3\u001b[0m  \u001b[44m3\u001b[0m  \u001b[44m3\u001b[0m  | \u001b[44m4\u001b[0m  \u001b[44m4\u001b[0m  \u001b[44m4\u001b[0m  \n",
      "\u001b[44m3\u001b[0m  \u001b[44m3\u001b[0m  \u001b[44m3\u001b[0m  | \u001b[44m4\u001b[0m  \u001b[44m4\u001b[0m  \u001b[44m4\u001b[0m  \n",
      "-------------------\n",
      "\u001b[44m5\u001b[0m  \u001b[44m5\u001b[0m  \u001b[44m5\u001b[0m  | \u001b[44m6\u001b[0m  \u001b[44m6\u001b[0m  \u001b[44m6\u001b[0m  \n",
      "\u001b[44m5\u001b[0m  \u001b[44m5\u001b[0m  \u001b[44m5\u001b[0m  | \u001b[44m6\u001b[0m  \u001b[44m6\u001b[0m  \u001b[44m6\u001b[0m  \n"
     ]
    },
    {
     "data": {
      "text/plain": [
       "72"
      ]
     },
     "execution_count": 5,
     "metadata": {},
     "output_type": "execute_result"
    }
   ],
   "source": [
    "wrong_template_6x6 = [[1,1,1,2,2,2],[1,1,1,2,2,2],[3,3,3,4,4,4],[3,3,3,4,4,4],[5,5,5,6,6,6],[5,5,5,6,6,6]]\n",
    "i = Individual(Sudoku(wrong_template_6x6))\n",
    "plot_sudoku(i)\n",
    "i.fitness\n",
    "#6*5 + 6*4 + 6*3 = 72"
   ]
  },
  {
   "cell_type": "code",
   "execution_count": 6,
   "metadata": {},
   "outputs": [
    {
     "name": "stdout",
     "output_type": "stream",
     "text": [
      "\u001b[44m1\u001b[0m  \u001b[44m1\u001b[0m  \u001b[44m1\u001b[0m  | \u001b[44m1\u001b[0m  \u001b[44m1\u001b[0m  \u001b[44m1\u001b[0m  | \u001b[44m1\u001b[0m  \u001b[44m1\u001b[0m  \u001b[44m1\u001b[0m  \n",
      "\u001b[44m1\u001b[0m  \u001b[44m1\u001b[0m  \u001b[44m1\u001b[0m  | \u001b[44m1\u001b[0m  \u001b[44m1\u001b[0m  \u001b[44m1\u001b[0m  | \u001b[44m1\u001b[0m  \u001b[44m1\u001b[0m  \u001b[44m1\u001b[0m  \n",
      "\u001b[44m1\u001b[0m  \u001b[44m1\u001b[0m  \u001b[44m1\u001b[0m  | \u001b[44m1\u001b[0m  \u001b[44m1\u001b[0m  \u001b[44m1\u001b[0m  | \u001b[44m1\u001b[0m  \u001b[44m1\u001b[0m  \u001b[44m1\u001b[0m  \n",
      "-----------------------------\n",
      "\u001b[44m1\u001b[0m  \u001b[44m1\u001b[0m  \u001b[44m1\u001b[0m  | \u001b[44m1\u001b[0m  \u001b[44m1\u001b[0m  \u001b[44m1\u001b[0m  | \u001b[44m1\u001b[0m  \u001b[44m1\u001b[0m  \u001b[44m1\u001b[0m  \n",
      "\u001b[44m1\u001b[0m  \u001b[44m1\u001b[0m  \u001b[44m1\u001b[0m  | \u001b[44m1\u001b[0m  \u001b[44m1\u001b[0m  \u001b[44m1\u001b[0m  | \u001b[44m1\u001b[0m  \u001b[44m1\u001b[0m  \u001b[44m1\u001b[0m  \n",
      "\u001b[44m1\u001b[0m  \u001b[44m1\u001b[0m  \u001b[44m1\u001b[0m  | \u001b[44m1\u001b[0m  \u001b[44m1\u001b[0m  \u001b[44m1\u001b[0m  | \u001b[44m1\u001b[0m  \u001b[44m1\u001b[0m  \u001b[44m1\u001b[0m  \n",
      "-----------------------------\n",
      "\u001b[44m1\u001b[0m  \u001b[44m1\u001b[0m  \u001b[44m1\u001b[0m  | \u001b[44m1\u001b[0m  \u001b[44m1\u001b[0m  \u001b[44m1\u001b[0m  | \u001b[44m1\u001b[0m  \u001b[44m1\u001b[0m  \u001b[44m1\u001b[0m  \n",
      "\u001b[44m1\u001b[0m  \u001b[44m1\u001b[0m  \u001b[44m1\u001b[0m  | \u001b[44m1\u001b[0m  \u001b[44m1\u001b[0m  \u001b[44m1\u001b[0m  | \u001b[44m1\u001b[0m  \u001b[44m1\u001b[0m  \u001b[44m1\u001b[0m  \n",
      "\u001b[44m1\u001b[0m  \u001b[44m1\u001b[0m  \u001b[44m1\u001b[0m  | \u001b[44m1\u001b[0m  \u001b[44m1\u001b[0m  \u001b[44m1\u001b[0m  | \u001b[44m1\u001b[0m  \u001b[44m1\u001b[0m  \u001b[44m1\u001b[0m  \n"
     ]
    },
    {
     "data": {
      "text/plain": [
       "216"
      ]
     },
     "execution_count": 6,
     "metadata": {},
     "output_type": "execute_result"
    }
   ],
   "source": [
    "wrong_template_9x9 = [\n",
    "    [1, 1, 1, 1, 1, 1, 1, 1, 1],\n",
    "    [1, 1, 1, 1, 1, 1, 1, 1, 1],\n",
    "    [1, 1, 1, 1, 1, 1, 1, 1, 1],\n",
    "    [1, 1, 1, 1, 1, 1, 1, 1, 1],\n",
    "    [1, 1, 1, 1, 1, 1, 1, 1, 1],\n",
    "    [1, 1, 1, 1, 1, 1, 1, 1, 1],\n",
    "    [1, 1, 1, 1, 1, 1, 1, 1, 1],\n",
    "    [1, 1, 1, 1, 1, 1, 1, 1, 1],\n",
    "    [1, 1, 1, 1, 1, 1, 1, 1, 1]\n",
    "]\n",
    "i = Individual(Sudoku(wrong_template_9x9))\n",
    "plot_sudoku(i)\n",
    "i.fitness\n",
    "#3*9*8 =216"
   ]
  },
  {
   "cell_type": "code",
   "execution_count": 7,
   "metadata": {},
   "outputs": [
    {
     "data": {
      "text/plain": [
       "4"
      ]
     },
     "execution_count": 7,
     "metadata": {},
     "output_type": "execute_result"
    }
   ],
   "source": [
    "#quick run we dont expect to solve and see the errors in the plot after when fitness != 0\n",
    "p = solve_sudoku( sudoku= Sudoku(ultimate[1]), generations=300, population_size=100,selection_method='tournament', tournament_size=0.1, elitism=True, elitism_percentage=0.05, crossover_method= 'a_bit_of_all_crossover', crossover_rate=0.8, mutation_method='a_bit_of_all_mutation', mutation_rate=0.05, log=False, generations_earlystop=100)\n",
    "p.best_fitness"
   ]
  },
  {
   "cell_type": "code",
   "execution_count": 8,
   "metadata": {},
   "outputs": [
    {
     "name": "stdout",
     "output_type": "stream",
     "text": [
      "7  \u001b[44m8\u001b[0m  3  | 9  1  \u001b[44m4\u001b[0m  | 6  2  \u001b[44m5\u001b[0m  \n",
      "9  \u001b[44m5\u001b[0m  6  | 8  7  \u001b[44m2\u001b[0m  | 3  1  \u001b[44m4\u001b[0m  \n",
      "\u001b[44m1\u001b[0m  2  \u001b[44m4\u001b[0m  | 5  3  6  | \u001b[44m7\u001b[0m  9  8  \n",
      "-----------------------------\n",
      "3  4  8  | \u001b[44m1\u001b[0m  2  \u001b[44m5\u001b[0m  | 6  7  \u001b[44m9\u001b[0m  \n",
      "5  2  \u001b[44m7\u001b[0m  | 6  4  9  | \u001b[44m1\u001b[0m  8  3  \n",
      "\u001b[44m6\u001b[0m  9  1  | \u001b[44m3\u001b[0m  8  \u001b[44m7\u001b[0m  | 5  4  2  \n",
      "-----------------------------\n",
      "2  7  \u001b[44m9\u001b[0m  | 4  5  3  | \u001b[44m8\u001b[0m  6  \u001b[44m1\u001b[0m  \n",
      "\u001b[44m8\u001b[0m  6  5  | \u001b[44m2\u001b[0m  9  1  | 4  \u001b[44m3\u001b[0m  7  \n",
      "\u001b[44m4\u001b[0m  3  1  | \u001b[44m7\u001b[0m  6  8  | 9  \u001b[44m5\u001b[0m  2  \n"
     ]
    }
   ],
   "source": [
    "plot_sudoku(p.individuals[0])"
   ]
  },
  {
   "cell_type": "code",
   "execution_count": 9,
   "metadata": {},
   "outputs": [
    {
     "data": {
      "text/plain": [
       "6"
      ]
     },
     "execution_count": 9,
     "metadata": {},
     "output_type": "execute_result"
    }
   ],
   "source": [
    "#same here\n",
    "p = solve_sudoku( sudoku= Sudoku(ultimate[1]), generations=300, population_size=100,selection_method='boltzmann', T=5, cooling_rate=0.98, elitism=True, elitism_percentage=0.05, crossover_method= 'a_bit_of_all_crossover', crossover_rate=0.8, mutation_method='a_bit_of_all_mutation', mutation_rate=0.05, log=False, generations_earlystop=100)\n",
    "p.best_fitness"
   ]
  },
  {
   "cell_type": "code",
   "execution_count": 10,
   "metadata": {},
   "outputs": [
    {
     "name": "stdout",
     "output_type": "stream",
     "text": [
      "2  \u001b[44m8\u001b[0m  3  | 6  7  \u001b[44m4\u001b[0m  | 9  1  \u001b[44m5\u001b[0m  \n",
      "7  \u001b[44m5\u001b[0m  6  | 9  1  \u001b[44m2\u001b[0m  | 3  8  \u001b[44m4\u001b[0m  \n",
      "\u001b[44m1\u001b[0m  9  \u001b[44m4\u001b[0m  | 8  5  3  | \u001b[44m7\u001b[0m  6  2  \n",
      "-----------------------------\n",
      "3  4  8  | \u001b[44m1\u001b[0m  2  \u001b[44m5\u001b[0m  | 6  7  \u001b[44m9\u001b[0m  \n",
      "9  2  \u001b[44m7\u001b[0m  | 4  6  8  | \u001b[44m1\u001b[0m  4  3  \n",
      "\u001b[44m6\u001b[0m  1  5  | \u001b[44m3\u001b[0m  9  \u001b[44m7\u001b[0m  | 5  2  8  \n",
      "-----------------------------\n",
      "5  7  \u001b[44m9\u001b[0m  | 5  3  6  | \u001b[44m8\u001b[0m  2  \u001b[44m1\u001b[0m  \n",
      "\u001b[44m8\u001b[0m  6  1  | \u001b[44m2\u001b[0m  4  9  | 4  \u001b[44m3\u001b[0m  7  \n",
      "\u001b[44m4\u001b[0m  3  2  | \u001b[44m7\u001b[0m  8  1  | 9  \u001b[44m5\u001b[0m  6  \n"
     ]
    }
   ],
   "source": [
    "plot_sudoku(p.individuals[0])"
   ]
  }
 ],
 "metadata": {
  "kernelspec": {
   "display_name": "Python 3",
   "language": "python",
   "name": "python3"
  },
  "language_info": {
   "codemirror_mode": {
    "name": "ipython",
    "version": 3
   },
   "file_extension": ".py",
   "mimetype": "text/x-python",
   "name": "python",
   "nbconvert_exporter": "python",
   "pygments_lexer": "ipython3",
   "version": "3.11.4"
  }
 },
 "nbformat": 4,
 "nbformat_minor": 2
}
