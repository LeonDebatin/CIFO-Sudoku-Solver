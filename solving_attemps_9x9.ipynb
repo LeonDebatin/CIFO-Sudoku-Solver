{
 "cells": [
  {
   "cell_type": "code",
   "execution_count": null,
   "metadata": {
    "metadata": {}
   },
   "outputs": [],
   "source": [
    "from darwin.sudoku import Sudoku\n",
    "from darwin.solve_sudoku import solve_sudoku\n",
    "from sudoku_templates.templates_final import easy, normal, hard, evil, ultimate\n"
   ]
  },
  {
   "cell_type": "code",
   "execution_count": null,
   "metadata": {
    "metadata": {}
   },
   "outputs": [],
   "source": [
    "templates = [easy[1],  normal[1],  hard[1], evil[1], ultimate[1]]\n",
    "\n",
    "\n",
    "for i in range(1,34):\n",
    "\n",
    "    size = 5000\n",
    "    selection_method = 'fps'\n",
    "    elitism = True\n",
    "    elitism_percentage = 0.13\n",
    "    tournament_size = None\n",
    "    T=None\n",
    "    cooling_rate = None\n",
    "    crossover_rate = 0.9\n",
    "    crossover_method = 'a_bit_of_all_crossover'\n",
    "    mutation_rate = 0.03\n",
    "    mutation_method = 'a_bit_of_all_mutation'\n",
    "    generations_earlystop = 50\n",
    "    \n",
    "    for j in range(len(templates)):\n",
    "\n",
    "        template = templates[j]\n",
    "        if j ==0:\n",
    "            template_diff = 'easy'\n",
    "        \n",
    "        elif j ==1:\n",
    "            template_diff = 'normal'\n",
    "        \n",
    "        elif j ==2:\n",
    "            template_diff = 'hard'\n",
    "        \n",
    "        elif j ==3:\n",
    "            template_diff = 'evil'\n",
    "        \n",
    "        elif j ==4:\n",
    "            template_diff = 'ultimate'\n",
    "        \n",
    "        \n",
    "        else:\n",
    "            raise Typerror('Something went wrong!')\n",
    "        \n",
    "        p = solve_sudoku(population_size= size,\n",
    "            sudoku = Sudoku(template=template), \n",
    "            generations = 250, \n",
    "            selection_method =selection_method,\n",
    "            tournament_size = tournament_size,\n",
    "            T = T,\n",
    "            cooling_rate= cooling_rate,\n",
    "            elitism = elitism,\n",
    "            elitism_percentage = elitism_percentage,\n",
    "            crossover_rate = crossover_rate,\n",
    "            crossover_method = crossover_method,\n",
    "            mutation_rate = mutation_rate,\n",
    "            mutation_method = mutation_method, \n",
    "            log=True, \n",
    "            log_name= f\"solving_attemps_final/{i}-{template_diff}-{size}-{selection_method}-{elitism}-{elitism_percentage}-{tournament_size}-{T}-{cooling_rate}-{crossover_rate}-{crossover_method}-{mutation_rate}-{mutation_method}-{generations_earlystop}\",\n",
    "            generations_earlystop=generations_earlystop\n",
    "        )"
   ]
  }
 ],
 "metadata": {
  "kernelspec": {
   "display_name": "Python 3",
   "language": "python",
   "name": "python3"
  },
  "language_info": {
   "codemirror_mode": {
    "name": "ipython",
    "version": 3
   },
   "file_extension": ".py",
   "mimetype": "text/x-python",
   "name": "python",
   "nbconvert_exporter": "python",
   "pygments_lexer": "ipython3",
   "version": "3.11.4"
  }
 },
 "nbformat": 4,
 "nbformat_minor": 2
}
